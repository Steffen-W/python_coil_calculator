{
 "cells": [
  {
   "cell_type": "code",
   "execution_count": 1,
   "id": "9e82d825-9a1b-4f90-a510-6a288487700b",
   "metadata": {
    "scrolled": true
   },
   "outputs": [],
   "source": [
    "import pythonCoil64\n",
    "from pythonCoil64 import Material"
   ]
  },
  {
   "cell_type": "markdown",
   "id": "38eb79b6-25f1-4a8f-97a0-7f3a43c95853",
   "metadata": {},
   "source": [
    "If pythonCoil64 dont exist, it must be installed with:\n",
    "\n",
    "```\n",
    "pip install -r requirements.txt\n",
    "python setup.py build\n",
    "pip install .\n",
    "```"
   ]
  },
  {
   "cell_type": "markdown",
   "id": "97f00e3e-7590-4989-a72a-751a84272642",
   "metadata": {},
   "source": [
    "<h2>One layer close-winding coil</h2>\n",
    "<img src=\"https://raw.githubusercontent.com/radioacoustick/Coil64/master/res/Coil1.png\" style=\"background-color: #FFFFFF;\"/>"
   ]
  },
  {
   "cell_type": "code",
   "execution_count": 2,
   "id": "ab34ac1d-9e73-4081-9fc7-a6b31276923e",
   "metadata": {},
   "outputs": [
    {
     "name": "stdout",
     "output_type": "stream",
     "text": [
      "Number of turns of the coil 26.713\n",
      "Length of wire without leads lw = 1288.326 mm\n",
      "Self capacitance Cs = 0.463 pF\n",
      "Coil self-resonance frequency Fsr = 81.645 MHz\n",
      "Coil constructive Q-factor = 104.000\n",
      "Loss resistance ESR = 0.602 Ohm\n",
      "result: {'N': 26.71284443560166, 'dw': 0.322265625, 'lw': 1.2883261581212555, 'R_ind / Rac': 104.0, 'Rac': 0.6023417715057838, 'Cs': 0.46298170952953555, 'srf': 81.64465408186956}\n"
     ]
    }
   ],
   "source": [
    "result = pythonCoil64.calc_Onelayer_cw(I=10.0, f=1.0, D=15.0, l=10.0, mt=Material.Cu)\n",
    "print(\"result:\",result)"
   ]
  },
  {
   "cell_type": "markdown",
   "id": "8fc31ff3-2e03-4a62-922b-58b6e023a3a8",
   "metadata": {},
   "source": [
    "<h2>One layer coil with rect wire</h2>\n",
    "<img src=\"https://raw.githubusercontent.com/radioacoustick/Coil64/master/res/Coil2_square.png\" style=\"background-color: #FFFFFF;\"/>"
   ]
  },
  {
   "cell_type": "code",
   "execution_count": 3,
   "id": "b1389ae5-8575-44fd-bc6e-6504272a369b",
   "metadata": {},
   "outputs": [
    {
     "name": "stdout",
     "output_type": "stream",
     "text": [
      "Number of turns of the coil N = 152.328\n",
      "Length of wire without leads lw = 4790.979 mm\n",
      "Self capacitance Cs = 1.418 pF\n",
      "Coil self-resonance frequency Fsr = 59.458 MHz\n",
      "Coil constructive Q-factor Q = 45.000\n",
      "Loss resistance ESR = 1.389 Ohm\n",
      "result: {'N': 152.3276724233674, 'lw': 4.790979143594799, 'Cs': 2.695335618777488, 'SRF': 59.457852448362566, 'Q': 45.0, 'Rac': 1.3889229543529025}\n"
     ]
    }
   ],
   "source": [
    "result = pythonCoil64.calc_Onelayer_p(I=10, f=1.0, D=10.0, w=1.0, t=0.1, i=0.1, p=1.5, mt=Material.Cu)\n",
    "print(\"result:\",result)"
   ]
  },
  {
   "cell_type": "markdown",
   "id": "4ae93449-d0bb-4060-9fe6-8a020a9b99b9",
   "metadata": {},
   "source": [
    "<h2>One layer coil with round wire</h2>\n",
    "<img src=\"https://raw.githubusercontent.com/radioacoustick/Coil64/master/res/Coil2.png\" style=\"background-color: #FFFFFF\" />"
   ]
  },
  {
   "cell_type": "code",
   "execution_count": 4,
   "id": "62c6129a-6cfd-4137-9cba-11ce49562896",
   "metadata": {},
   "outputs": [
    {
     "name": "stdout",
     "output_type": "stream",
     "text": [
      "Inductance L = 1.961 uH\n",
      "Length of wire without leads lw = 707.217 mm\n",
      "Self capacitance Cs = 0.522 pF\n",
      "Coil self-resonance frequency Fsr = 200.197 MHz\n",
      "Coil constructive Q-factor Q = 8.000\n",
      "Loss resistance ESR = 1.563 Ohm\n",
      "result: {'L': 1.960616511258229, 'lw': 0.7072167180319504, 'Cs': 0.5222615779294002, 'SRF': 200.19654980722004, 'Rac': 1.5633115899255057, 'Q': 8.0}\n"
     ]
    }
   ],
   "source": [
    "result = pythonCoil64.calc_L_Onelayer(N=15, f=1.0, D=15.0, d=0.1, k=0.11, p=1.5, mt=Material.Cu)\n",
    "print(\"result:\",result)"
   ]
  },
  {
   "cell_type": "markdown",
   "id": "8bd9feb2-4d32-4d2c-a9b6-184732822a29",
   "metadata": {},
   "source": [
    "<h2>Multilayer coil</h2>\n",
    "<img src=\"https://raw.githubusercontent.com/radioacoustick/Coil64/master/res/Coil4.png\" style=\"background-color: #FFFFFF;\"/> windingKind == 0\n",
    "<img src=\"https://raw.githubusercontent.com/radioacoustick/Coil64/master/res/Coil4o.png\" style=\"background-color: #FFFFFF;\"/> windingKind == 1"
   ]
  },
  {
   "cell_type": "code",
   "execution_count": 5,
   "id": "28c3c45f-8ea8-4b65-ba30-3d9fffd31334",
   "metadata": {},
   "outputs": [
    {
     "name": "stdout",
     "output_type": "stream",
     "text": [
      "Number of turns of the coil N = 52.000\n",
      "Thickness of the coil c = 0.189 mm\n",
      "Length of wire without leads lw = 1328.861 mm\n",
      "DC resistance of the coil Rdc = 2.917 Ohm\n",
      "Number of layers Nl = 2.000\n",
      "result: {'Length': 1.3288608777986337, 'Ng': -1.0, 'Number layers': 2.0, 'Number turns': 52.0, 'R_DC': 2.9171051654894504, 'Thickness': 0.18879353802500762}\n"
     ]
    }
   ],
   "source": [
    "result = pythonCoil64.calc_Multilayer(I=20.0, D=8.0, lk=5.0, d=0.1, k=0.109, windingKind=True)\n",
    "print(\"result:\",result)"
   ]
  },
  {
   "cell_type": "markdown",
   "id": "d9f007a0-1109-483e-bfe2-beb91b0f2f9c",
   "metadata": {},
   "source": [
    "<h2>Multilayer coil with insulated pads</h2>\n",
    "<img src=\"https://raw.githubusercontent.com/radioacoustick/Coil64/master/res/Coil4-0.png\" style=\"background-color: #FFFFFF;\"/>"
   ]
  },
  {
   "cell_type": "code",
   "execution_count": 6,
   "id": "96ea9c37-022d-4dbd-bcbc-a35a4abf8906",
   "metadata": {},
   "outputs": [
    {
     "name": "stdout",
     "output_type": "stream",
     "text": [
      "Number of turns of the coil N = 19.000\n",
      "Thickness of the coil c = 0.110 mm\n",
      "Length of wire without leads lw = 901.920 mm\n",
      "DC resistance of the coil Rdc = 1.980 Ohm\n",
      "Number of layers Nl = 1.000\n",
      "Number of interlayers Ng = 0.000\n",
      "result: {'Length': 0.9019198349190938, 'Ng': 0.0, 'Number layers': 1.0, 'Number turns': 19.0, 'R_DC': 1.9798874759999998, 'Thickness': 0.10999999999999999}\n"
     ]
    }
   ],
   "source": [
    "result = pythonCoil64.calc_Multilayer_p(I=10.0, D=15.0, lk=8.0, d=0.1, k=0.11, g=0.1, Ng=5.0)\n",
    "print(\"result:\",result)"
   ]
  },
  {
   "cell_type": "markdown",
   "id": "05129bc2-b459-4f58-b8e5-2434424f12b8",
   "metadata": {},
   "source": [
    "<h2>Multilayer coil on a rectangular former</h2>\n",
    "<img src=\"https://raw.githubusercontent.com/radioacoustick/Coil64/master/res/Coil4_square.png\" style=\"background-color: #FFFFFF;\"/>"
   ]
  },
  {
   "cell_type": "code",
   "execution_count": 7,
   "id": "06d98d32-f4c8-46d3-aaab-4c841b1667a5",
   "metadata": {},
   "outputs": [
    {
     "name": "stdout",
     "output_type": "stream",
     "text": [
      "Number of turns of the coil N = 85.000\n",
      "Number of layers Nl = 2.000\n",
      "Thickness of the coil c = 0.220 mm\n",
      "Length of wire without leads lw = 1233.120 mm\n",
      "DC resistance of the coil Rdc = 2.707 Ohm\n",
      "result: {'Length wire': 1.233120000000001, 'Number layers': 2.0, 'Number turns': 85.0, 'Rdc': 2.706935527838935, 'thickness': 0.21999999999999997}\n"
     ]
    }
   ],
   "source": [
    "result = pythonCoil64.calc_Multilayer_r(I=10.0, a=5.0, b=2.0, l=8.0, d=0.1, k=0.11)\n",
    "print(\"result:\",result)"
   ]
  },
  {
   "cell_type": "markdown",
   "id": "8ab46d5c-a2d7-4462-a3bc-51cea1d9ccc6",
   "metadata": {},
   "source": [
    "<h2>Multilayer foil-wound coil</h2>\n",
    "<img src=\"https://raw.githubusercontent.com/radioacoustick/Coil64/master/res/Coil11.png\" style=\"background-color: #FFFFFF;\"/>"
   ]
  },
  {
   "cell_type": "code",
   "execution_count": 8,
   "id": "f69f9a3c-524e-45c6-a210-18caf9df2db0",
   "metadata": {},
   "outputs": [
    {
     "name": "stdout",
     "output_type": "stream",
     "text": [
      "Number of turns of the coil N = 28.000\n",
      "Outside diameter Do = 20.940 mm\n",
      "Length of the foil lf = 1606.236 mm\n",
      "DC resistance of the coil Rdc = 0.023 Ohm (Copper)\n",
      "DC resistance of the coil Rdc = 0.038 Ohm (Aluminum)\n",
      "result: {'Do': 20.939999999999998, 'Length spiral': 1.6062364734132248, 'Number turns': 28.0, 'Rdca': 0.037800098340991226, 'Rdcc': 0.023077602531764507}\n"
     ]
    }
   ],
   "source": [
    "result = pythonCoil64.calc_Multilayer_f(I=10.0, D=15.0, w=12.0, t=0.1, g=0.01)\n",
    "print(\"result:\",result)"
   ]
  },
  {
   "cell_type": "code",
   "execution_count": 9,
   "id": "4a5a2ad8-be06-4ab5-a00a-4538f1c2edb4",
   "metadata": {},
   "outputs": [
    {
     "name": "stdout",
     "output_type": "stream",
     "text": [
      "Inductance L = 1.322 uH\n",
      "Length of the foil lf = 511.452 mm\n",
      "Outside diameter Do = 16.980 mm\n",
      "DC resistance of the coil Rdc = 0.009 Ohm (Copper)\n",
      "DC resistance of the coil Rdc = 0.014 Ohm (Aluminum)\n",
      "result: {'Do': 16.98, 'L': 1.322499172378234, 'Length': 0.5114524687164862, 'R_AC': 0.01444341771655357, 'R_DC': 0.008817952013140938}\n"
     ]
    }
   ],
   "source": [
    "result = pythonCoil64.calc_L_Multilayer_f(N=10, D=15.0, w=10.0, t=0.1, g=0.01)\n",
    "print(\"result:\",result)"
   ]
  },
  {
   "cell_type": "markdown",
   "id": "1645b287-f120-4fd8-874b-128da7897ad0",
   "metadata": {},
   "source": [
    "<h2>FerrToroid</h2>\n",
    "<img src=\"https://raw.githubusercontent.com/radioacoustick/Coil64/master/res/T-core.png\" style=\"background-color: #FFFFFF;\"/>"
   ]
  },
  {
   "cell_type": "code",
   "execution_count": 10,
   "id": "ad336487-dcd9-4435-8cbf-2d4a1ca0474a",
   "metadata": {},
   "outputs": [
    {
     "name": "stdout",
     "output_type": "stream",
     "text": [
      "Number of turns of the coil N = 30.170\n",
      "Length of wire without leads lw = nan mm\n",
      "AL = 11.000 nH/N2\n",
      "result: {'Al': 11.0, 'Length wire': nan, 'Number turns': 30.170171140164868}\n"
     ]
    }
   ],
   "source": [
    "result = pythonCoil64.calc_FerrToroid(I=10.0, OD=30.0, ID=10.0, h=5.0, d=0.0, mu=10.0, C=0.0)\n",
    "print(\"result:\",result)"
   ]
  },
  {
   "cell_type": "code",
   "execution_count": 11,
   "id": "61fa1e4a-43ff-42a0-8fb9-c70de0ae097b",
   "metadata": {},
   "outputs": [
    {
     "name": "stdout",
     "output_type": "stream",
     "text": [
      "Inductance L = 0.173 uH\n",
      "A_L = 7.000 nH/N^2\n",
      "result: {'Al': 7.0, 'L': 0.17328679513998632}\n"
     ]
    }
   ],
   "source": [
    "result = pythonCoil64.calc_L_FerrToroid(N=5, OD=20.0, ID=10.0, h=5.0, mu=10.0, C=0.0)\n",
    "print(\"result:\",result)"
   ]
  },
  {
   "cell_type": "markdown",
   "id": "53c2eeaf-1e1f-4192-adf1-fa3310795e52",
   "metadata": {},
   "source": [
    "<h2>PCB Square</h2>\n",
    "<img src=\"https://raw.githubusercontent.com/radioacoustick/Coil64/master/res/Coil8.png\" style=\"background-color: #FFFFFF;\"/>"
   ]
  },
  {
   "cell_type": "code",
   "execution_count": 12,
   "id": "5204e742-a879-415d-987e-12e5c2e61bd7",
   "metadata": {},
   "outputs": [
    {
     "name": "stdout",
     "output_type": "stream",
     "text": [
      "Number of turns of the coil N = 26.830\n",
      "Winding pitch s = 0.280 mm\n",
      "Width of a PCB trace W = 0.168 mm\n",
      "Coil constructive Q-factor Q ≈ 20.614\n",
      "result: {'Number turns': 26.830000000001395, 'Width': 0.16772269847185114, 'Winding pitch': 0.2795378307864186, 'Q': 20.613736403902564}\n"
     ]
    }
   ],
   "source": [
    "result = pythonCoil64.calc_PCB_coil_Square(I=10.0, f=1.0, D=20.0, d=5.0, t=0.1, ratio=0.6)\n",
    "print(\"result:\",result)"
   ]
  },
  {
   "cell_type": "code",
   "execution_count": 13,
   "id": "17401701-28d8-4f33-b45f-b0793157c06a",
   "metadata": {},
   "outputs": [
    {
     "name": "stdout",
     "output_type": "stream",
     "text": [
      "Inductance L (uH) = 0.569 uH\n",
      "Outside diameter D = 20.000 mm\n",
      "Coil constructive Q-factor Q ≈ 16.951\n",
      "result: {'Do': 20.0, 'L': 0.5687308705441969, 'Q': 16.950687616665718}\n"
     ]
    }
   ],
   "source": [
    "result = pythonCoil64.calc_L_PCB_coil_Square(N=5, f=1.0, d=10.0, s=1.0, W=0.5, t=0.1)\n",
    "print(\"result:\",result)"
   ]
  },
  {
   "cell_type": "markdown",
   "id": "0e048cd9-04a1-4b70-be27-c7a547e561e5",
   "metadata": {},
   "source": [
    "<h2>PCB Spiral</h2>\n",
    "<img src=\"https://raw.githubusercontent.com/radioacoustick/Coil64/master/res/Coil9.png\" style=\"background-color: #FFFFFF;\"/>"
   ]
  },
  {
   "cell_type": "code",
   "execution_count": 14,
   "id": "165727d2-53f2-4787-972e-9411bfd85f7f",
   "metadata": {},
   "outputs": [
    {
     "name": "stdout",
     "output_type": "stream",
     "text": [
      "Number of turns of the coil N = 29.310\n",
      "Winding pitch s = 0.256 mm\n",
      "Width of a PCB trace W = 0.154 mm\n",
      "Coil constructive Q-factor Q ≈ 20.711\n",
      "result: {'Number turns': 29.310000000001782, 'Width': 0.15353121801432024, 'Winding pitch': 0.2558853633572004, 'Q': 20.711034725463342}\n"
     ]
    }
   ],
   "source": [
    "result = pythonCoil64.calc_PCB_coil_Spiral(I=10.0, f=1.0, D=20.0, d=5.0, t=0.1, ratio=0.6)\n",
    "print(\"result:\",result)"
   ]
  },
  {
   "cell_type": "code",
   "execution_count": 15,
   "id": "437de207-36fa-4a71-90ce-eabda8a4a551",
   "metadata": {},
   "outputs": [
    {
     "name": "stdout",
     "output_type": "stream",
     "text": [
      "Inductance L (uH) = 0.476 uH\n",
      "Outside diameter D = 20.000 mm\n",
      "Coil constructive Q-factor Q ≈ 17.163\n",
      "result: {'Do': 20.0, 'L': 0.47618593120000274, 'Q': 17.162840201906125}\n"
     ]
    }
   ],
   "source": [
    "result = pythonCoil64.calc_L_PCB_coil_Spiral(N=5, f=1.0, d=10.0, s=1.0, W=0.5, t=0.1)\n",
    "print(\"result:\",result)"
   ]
  },
  {
   "cell_type": "markdown",
   "id": "bea5a6ef-4bd4-40d4-a106-c86f77bb9093",
   "metadata": {},
   "source": [
    "<h2>Rectangular</h2>\n",
    "<img src=\"https://raw.githubusercontent.com/radioacoustick/Coil64/master/res/Coil8r.png\" style=\"background-color: #FFFFFF;\"/>"
   ]
  },
  {
   "cell_type": "code",
   "execution_count": 16,
   "id": "fa7c3d82-93b1-4c38-807c-d5c41a9450ed",
   "metadata": {},
   "outputs": [
    {
     "name": "stdout",
     "output_type": "stream",
     "text": [
      "Number of turns of the coil N = 0.000\n",
      "Winding pitch s = 0.000 mm\n",
      "Width of a PCB trace W = 0.000 mm\n",
      "Coil constructive Q-factor Q ≈ 0.000\n",
      "result: {'Number turns': 0.0, 'Width': 0.0, 'Winding pitch': 0.0, 'Q': 0}\n"
     ]
    }
   ],
   "source": [
    "result = pythonCoil64.calc_PCB_coil_Rectangular(I=10.0, f=1.0, A=20.0, B=15.0, a=5.0, t=0.1, ratio=0.6)\n",
    "print(\"result:\",result)"
   ]
  },
  {
   "cell_type": "code",
   "execution_count": 17,
   "id": "a7157cb3-0376-481c-8d00-7b42b7913e8a",
   "metadata": {},
   "outputs": [
    {
     "name": "stdout",
     "output_type": "stream",
     "text": [
      "Inductance L (uH) = 0.655 uH\n",
      "Outside diameter D = 12.000 mm\n",
      "Coil constructive Q-factor Q ≈ 15.908\n",
      "result: {'Do': 12.0, 'L': 0.6554652013683011, 'Q': 15.907684673857043}\n"
     ]
    }
   ],
   "source": [
    "result = pythonCoil64.calc_L_PCB_coil_Rectangular(N=5, f=1.0, A=20.0, B=20.0, s=1.0, W=0.5, t=0.1)\n",
    "print(\"result:\",result)"
   ]
  },
  {
   "cell_type": "markdown",
   "id": "c677c453-012c-42d5-b46a-a1a166668fce",
   "metadata": {},
   "source": [
    "<h2>Flat Spiral</h2>\n",
    "<img src=\"https://raw.githubusercontent.com/radioacoustick/Coil64/master/res/Coil10.png\" style=\"background-color: #FFFFFF;\"/>"
   ]
  },
  {
   "cell_type": "code",
   "execution_count": 18,
   "id": "81d743f4-0960-45ac-9b17-d19c063e9ae9",
   "metadata": {},
   "outputs": [
    {
     "name": "stdout",
     "output_type": "stream",
     "text": [
      "Number of turns of the coil N = 25.000\n",
      "Outside diameter Do = 45.800 mm\n",
      "Length of wire without leads lw = 2069.675 mm\n",
      "result: {'Do': 45.8, 'Length spiral': 2.069675219123704, 'Number turns': 25.0}\n"
     ]
    }
   ],
   "source": [
    "result = pythonCoil64.calc_Flat_Spiral(I=10.0, Di=5.0, d=0.1, s=0.75)\n",
    "print(\"result:\",result)"
   ]
  },
  {
   "cell_type": "code",
   "execution_count": 19,
   "id": "5bdf4028-4bd0-4fa2-a27a-0f9e9a6d13ae",
   "metadata": {},
   "outputs": [
    {
     "name": "stdout",
     "output_type": "stream",
     "text": [
      "Inductance L = 0.319 uH\n",
      "Length of wire without leads lw = 324.123 mm\n",
      "result: {'Length spiral': 0.3241230446616166, 'Number turns': 0.3190061443618599}\n"
     ]
    }
   ],
   "source": [
    "result = pythonCoil64.calc_L_Flat_Spiral(N=5, OD=25.0, ID=10.0, d=0.1)\n",
    "print(\"result:\",result)"
   ]
  }
 ],
 "metadata": {
  "kernelspec": {
   "display_name": "Python 3 (ipykernel)",
   "language": "python",
   "name": "python3"
  },
  "language_info": {
   "codemirror_mode": {
    "name": "ipython",
    "version": 3
   },
   "file_extension": ".py",
   "mimetype": "text/x-python",
   "name": "python",
   "nbconvert_exporter": "python",
   "pygments_lexer": "ipython3",
   "version": "3.10.12"
  }
 },
 "nbformat": 4,
 "nbformat_minor": 5
}
